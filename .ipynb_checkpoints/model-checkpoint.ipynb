{
 "cells": [
  {
   "cell_type": "markdown",
   "id": "7331fcbb",
   "metadata": {},
   "source": [
    "## Импорт библиотек"
   ]
  },
  {
   "cell_type": "code",
   "execution_count": 1,
   "id": "1dcdba09",
   "metadata": {},
   "outputs": [],
   "source": [
    "import pandas as pd\n",
    "\n",
    "import re\n",
    "\n",
    "from sklearn.model_selection import train_test_split, GridSearchCV\n",
    "from sklearn.ensemble import RandomForestRegressor\n",
    "from sklearn.metrics import mean_squared_error\n",
    "\n",
    "import lightgbm as lgb"
   ]
  },
  {
   "cell_type": "markdown",
   "id": "b9b05be5",
   "metadata": {},
   "source": [
    "## Читаем датасет и оставляем фичи для дальнейшей работы"
   ]
  },
  {
   "cell_type": "code",
   "execution_count": 3,
   "id": "8bc0a1ee",
   "metadata": {},
   "outputs": [],
   "source": [
    "df = pd.read_csv('data/used_cars.csv')"
   ]
  },
  {
   "cell_type": "code",
   "execution_count": 4,
   "id": "b1ed4cf1",
   "metadata": {},
   "outputs": [],
   "source": [
    "features = ['brand', 'model_year', 'milage', 'fuel_type', 'engine', 'ext_col','accident', 'price']"
   ]
  },
  {
   "cell_type": "code",
   "execution_count": 5,
   "id": "05edcb45",
   "metadata": {},
   "outputs": [],
   "source": [
    "dataset = df[features]"
   ]
  },
  {
   "cell_type": "code",
   "execution_count": 6,
   "id": "b4ad73a5",
   "metadata": {},
   "outputs": [
    {
     "data": {
      "text/html": [
       "<div>\n",
       "<style scoped>\n",
       "    .dataframe tbody tr th:only-of-type {\n",
       "        vertical-align: middle;\n",
       "    }\n",
       "\n",
       "    .dataframe tbody tr th {\n",
       "        vertical-align: top;\n",
       "    }\n",
       "\n",
       "    .dataframe thead th {\n",
       "        text-align: right;\n",
       "    }\n",
       "</style>\n",
       "<table border=\"1\" class=\"dataframe\">\n",
       "  <thead>\n",
       "    <tr style=\"text-align: right;\">\n",
       "      <th></th>\n",
       "      <th>brand</th>\n",
       "      <th>model_year</th>\n",
       "      <th>milage</th>\n",
       "      <th>fuel_type</th>\n",
       "      <th>engine</th>\n",
       "      <th>ext_col</th>\n",
       "      <th>accident</th>\n",
       "      <th>price</th>\n",
       "    </tr>\n",
       "  </thead>\n",
       "  <tbody>\n",
       "    <tr>\n",
       "      <th>0</th>\n",
       "      <td>Ford</td>\n",
       "      <td>2013</td>\n",
       "      <td>51,000 mi.</td>\n",
       "      <td>E85 Flex Fuel</td>\n",
       "      <td>300.0HP 3.7L V6 Cylinder Engine Flex Fuel Capa...</td>\n",
       "      <td>Black</td>\n",
       "      <td>At least 1 accident or damage reported</td>\n",
       "      <td>$10,300</td>\n",
       "    </tr>\n",
       "    <tr>\n",
       "      <th>1</th>\n",
       "      <td>Hyundai</td>\n",
       "      <td>2021</td>\n",
       "      <td>34,742 mi.</td>\n",
       "      <td>Gasoline</td>\n",
       "      <td>3.8L V6 24V GDI DOHC</td>\n",
       "      <td>Moonlight Cloud</td>\n",
       "      <td>At least 1 accident or damage reported</td>\n",
       "      <td>$38,005</td>\n",
       "    </tr>\n",
       "    <tr>\n",
       "      <th>2</th>\n",
       "      <td>Lexus</td>\n",
       "      <td>2022</td>\n",
       "      <td>22,372 mi.</td>\n",
       "      <td>Gasoline</td>\n",
       "      <td>3.5 Liter DOHC</td>\n",
       "      <td>Blue</td>\n",
       "      <td>None reported</td>\n",
       "      <td>$54,598</td>\n",
       "    </tr>\n",
       "    <tr>\n",
       "      <th>3</th>\n",
       "      <td>INFINITI</td>\n",
       "      <td>2015</td>\n",
       "      <td>88,900 mi.</td>\n",
       "      <td>Hybrid</td>\n",
       "      <td>354.0HP 3.5L V6 Cylinder Engine Gas/Electric H...</td>\n",
       "      <td>Black</td>\n",
       "      <td>None reported</td>\n",
       "      <td>$15,500</td>\n",
       "    </tr>\n",
       "    <tr>\n",
       "      <th>4</th>\n",
       "      <td>Audi</td>\n",
       "      <td>2021</td>\n",
       "      <td>9,835 mi.</td>\n",
       "      <td>Gasoline</td>\n",
       "      <td>2.0L I4 16V GDI DOHC Turbo</td>\n",
       "      <td>Glacier White Metallic</td>\n",
       "      <td>None reported</td>\n",
       "      <td>$34,999</td>\n",
       "    </tr>\n",
       "  </tbody>\n",
       "</table>\n",
       "</div>"
      ],
      "text/plain": [
       "      brand  model_year      milage      fuel_type  \\\n",
       "0      Ford        2013  51,000 mi.  E85 Flex Fuel   \n",
       "1   Hyundai        2021  34,742 mi.       Gasoline   \n",
       "2     Lexus        2022  22,372 mi.       Gasoline   \n",
       "3  INFINITI        2015  88,900 mi.         Hybrid   \n",
       "4      Audi        2021   9,835 mi.       Gasoline   \n",
       "\n",
       "                                              engine                 ext_col  \\\n",
       "0  300.0HP 3.7L V6 Cylinder Engine Flex Fuel Capa...                   Black   \n",
       "1                               3.8L V6 24V GDI DOHC         Moonlight Cloud   \n",
       "2                                     3.5 Liter DOHC                    Blue   \n",
       "3  354.0HP 3.5L V6 Cylinder Engine Gas/Electric H...                   Black   \n",
       "4                         2.0L I4 16V GDI DOHC Turbo  Glacier White Metallic   \n",
       "\n",
       "                                 accident    price  \n",
       "0  At least 1 accident or damage reported  $10,300  \n",
       "1  At least 1 accident or damage reported  $38,005  \n",
       "2                           None reported  $54,598  \n",
       "3                           None reported  $15,500  \n",
       "4                           None reported  $34,999  "
      ]
     },
     "execution_count": 6,
     "metadata": {},
     "output_type": "execute_result"
    }
   ],
   "source": [
    "dataset.head()"
   ]
  },
  {
   "cell_type": "markdown",
   "id": "c46640fc",
   "metadata": {},
   "source": [
    "## Предобработка данных"
   ]
  },
  {
   "cell_type": "code",
   "execution_count": 7,
   "id": "a2dc092b",
   "metadata": {
    "scrolled": true
   },
   "outputs": [],
   "source": [
    "dataset = dataset.rename(columns={'model_year': 'year'})"
   ]
  },
  {
   "cell_type": "code",
   "execution_count": 8,
   "id": "443367ae",
   "metadata": {},
   "outputs": [],
   "source": [
    "dataset['milage'] = dataset['milage'].apply(lambda x: x[:-4].replace(',', '.')).map(float) * 1.61"
   ]
  },
  {
   "cell_type": "code",
   "execution_count": 9,
   "id": "216c3eb9",
   "metadata": {},
   "outputs": [],
   "source": [
    "fuel = dataset.fuel_type.replace(['–', 'not supported'], 'Gasoline')\n",
    "fuel = fuel.fillna('Gasoline')\n",
    "dataset['fuel_type'] = fuel"
   ]
  },
  {
   "cell_type": "code",
   "execution_count": 10,
   "id": "0e4d884f",
   "metadata": {},
   "outputs": [],
   "source": [
    "l = []\n",
    "pattern = '\\d\\.\\dL'\n",
    "for engine in dataset.engine:\n",
    "    result = re.search(pattern, engine)\n",
    "    if result:\n",
    "        l.append(float(result.group()[:-1]))\n",
    "    else:\n",
    "        l.append(0)\n",
    "        \n",
    "engine = pd.Series(l)\n",
    "engine = engine.replace(0, engine.median())\n",
    "dataset['engine'] = engine"
   ]
  },
  {
   "cell_type": "code",
   "execution_count": 11,
   "id": "ea085c07",
   "metadata": {},
   "outputs": [],
   "source": [
    "selected_colors = dataset.ext_col.value_counts().head(12).index\n",
    "all_colors = dataset.ext_col.unique()\n",
    "\n",
    "colors_to_drop = [color for color in all_colors if color not in selected_colors]\n",
    "\n",
    "color = dataset['ext_col'].replace(colors_to_drop, 'Black')\n",
    "\n",
    "dataset['ext_col'] = color\n",
    "dataset = dataset.rename(columns={'ext_col': 'color'})"
   ]
  },
  {
   "cell_type": "code",
   "execution_count": 12,
   "id": "c92b6578",
   "metadata": {},
   "outputs": [],
   "source": [
    "dataset['accident'] = dataset.accident.map({'At least 1 accident or damage reported': 1, 'None reported': 0}).fillna(0)"
   ]
  },
  {
   "cell_type": "code",
   "execution_count": 13,
   "id": "8864c540",
   "metadata": {},
   "outputs": [],
   "source": [
    "dataset['price'] = dataset['price'].map(lambda x: float(x[1:].replace(',', ''))) * 93"
   ]
  },
  {
   "cell_type": "markdown",
   "id": "bd983699",
   "metadata": {},
   "source": [
    "## Строю модель"
   ]
  },
  {
   "cell_type": "code",
   "execution_count": 14,
   "id": "70256be3",
   "metadata": {},
   "outputs": [],
   "source": [
    "df_for_model = pd.get_dummies(dataset, dtype=float)"
   ]
  },
  {
   "cell_type": "code",
   "execution_count": 15,
   "id": "5854199d",
   "metadata": {},
   "outputs": [],
   "source": [
    "X = df_for_model.drop(['price'], axis=1)\n",
    "y = df_for_model['price']"
   ]
  },
  {
   "cell_type": "code",
   "execution_count": 16,
   "id": "397e2184",
   "metadata": {},
   "outputs": [],
   "source": [
    "X_train, X_test, y_train, y_test = train_test_split(X, y)"
   ]
  },
  {
   "cell_type": "code",
   "execution_count": 17,
   "id": "c4b908f5",
   "metadata": {},
   "outputs": [],
   "source": [
    "clf = RandomForestRegressor(criterion='squared_error', n_estimators=100, n_jobs=-1)"
   ]
  },
  {
   "cell_type": "code",
   "execution_count": 18,
   "id": "b155a8db",
   "metadata": {},
   "outputs": [
    {
     "name": "stdout",
     "output_type": "stream",
     "text": [
      "CPU times: total: 2.09 s\n",
      "Wall time: 343 ms\n"
     ]
    },
    {
     "data": {
      "text/html": [
       "<style>#sk-container-id-1 {color: black;background-color: white;}#sk-container-id-1 pre{padding: 0;}#sk-container-id-1 div.sk-toggleable {background-color: white;}#sk-container-id-1 label.sk-toggleable__label {cursor: pointer;display: block;width: 100%;margin-bottom: 0;padding: 0.3em;box-sizing: border-box;text-align: center;}#sk-container-id-1 label.sk-toggleable__label-arrow:before {content: \"▸\";float: left;margin-right: 0.25em;color: #696969;}#sk-container-id-1 label.sk-toggleable__label-arrow:hover:before {color: black;}#sk-container-id-1 div.sk-estimator:hover label.sk-toggleable__label-arrow:before {color: black;}#sk-container-id-1 div.sk-toggleable__content {max-height: 0;max-width: 0;overflow: hidden;text-align: left;background-color: #f0f8ff;}#sk-container-id-1 div.sk-toggleable__content pre {margin: 0.2em;color: black;border-radius: 0.25em;background-color: #f0f8ff;}#sk-container-id-1 input.sk-toggleable__control:checked~div.sk-toggleable__content {max-height: 200px;max-width: 100%;overflow: auto;}#sk-container-id-1 input.sk-toggleable__control:checked~label.sk-toggleable__label-arrow:before {content: \"▾\";}#sk-container-id-1 div.sk-estimator input.sk-toggleable__control:checked~label.sk-toggleable__label {background-color: #d4ebff;}#sk-container-id-1 div.sk-label input.sk-toggleable__control:checked~label.sk-toggleable__label {background-color: #d4ebff;}#sk-container-id-1 input.sk-hidden--visually {border: 0;clip: rect(1px 1px 1px 1px);clip: rect(1px, 1px, 1px, 1px);height: 1px;margin: -1px;overflow: hidden;padding: 0;position: absolute;width: 1px;}#sk-container-id-1 div.sk-estimator {font-family: monospace;background-color: #f0f8ff;border: 1px dotted black;border-radius: 0.25em;box-sizing: border-box;margin-bottom: 0.5em;}#sk-container-id-1 div.sk-estimator:hover {background-color: #d4ebff;}#sk-container-id-1 div.sk-parallel-item::after {content: \"\";width: 100%;border-bottom: 1px solid gray;flex-grow: 1;}#sk-container-id-1 div.sk-label:hover label.sk-toggleable__label {background-color: #d4ebff;}#sk-container-id-1 div.sk-serial::before {content: \"\";position: absolute;border-left: 1px solid gray;box-sizing: border-box;top: 0;bottom: 0;left: 50%;z-index: 0;}#sk-container-id-1 div.sk-serial {display: flex;flex-direction: column;align-items: center;background-color: white;padding-right: 0.2em;padding-left: 0.2em;position: relative;}#sk-container-id-1 div.sk-item {position: relative;z-index: 1;}#sk-container-id-1 div.sk-parallel {display: flex;align-items: stretch;justify-content: center;background-color: white;position: relative;}#sk-container-id-1 div.sk-item::before, #sk-container-id-1 div.sk-parallel-item::before {content: \"\";position: absolute;border-left: 1px solid gray;box-sizing: border-box;top: 0;bottom: 0;left: 50%;z-index: -1;}#sk-container-id-1 div.sk-parallel-item {display: flex;flex-direction: column;z-index: 1;position: relative;background-color: white;}#sk-container-id-1 div.sk-parallel-item:first-child::after {align-self: flex-end;width: 50%;}#sk-container-id-1 div.sk-parallel-item:last-child::after {align-self: flex-start;width: 50%;}#sk-container-id-1 div.sk-parallel-item:only-child::after {width: 0;}#sk-container-id-1 div.sk-dashed-wrapped {border: 1px dashed gray;margin: 0 0.4em 0.5em 0.4em;box-sizing: border-box;padding-bottom: 0.4em;background-color: white;}#sk-container-id-1 div.sk-label label {font-family: monospace;font-weight: bold;display: inline-block;line-height: 1.2em;}#sk-container-id-1 div.sk-label-container {text-align: center;}#sk-container-id-1 div.sk-container {/* jupyter's `normalize.less` sets `[hidden] { display: none; }` but bootstrap.min.css set `[hidden] { display: none !important; }` so we also need the `!important` here to be able to override the default hidden behavior on the sphinx rendered scikit-learn.org. See: https://github.com/scikit-learn/scikit-learn/issues/21755 */display: inline-block !important;position: relative;}#sk-container-id-1 div.sk-text-repr-fallback {display: none;}</style><div id=\"sk-container-id-1\" class=\"sk-top-container\"><div class=\"sk-text-repr-fallback\"><pre>RandomForestRegressor(n_jobs=-1)</pre><b>In a Jupyter environment, please rerun this cell to show the HTML representation or trust the notebook. <br />On GitHub, the HTML representation is unable to render, please try loading this page with nbviewer.org.</b></div><div class=\"sk-container\" hidden><div class=\"sk-item\"><div class=\"sk-estimator sk-toggleable\"><input class=\"sk-toggleable__control sk-hidden--visually\" id=\"sk-estimator-id-1\" type=\"checkbox\" checked><label for=\"sk-estimator-id-1\" class=\"sk-toggleable__label sk-toggleable__label-arrow\">RandomForestRegressor</label><div class=\"sk-toggleable__content\"><pre>RandomForestRegressor(n_jobs=-1)</pre></div></div></div></div></div>"
      ],
      "text/plain": [
       "RandomForestRegressor(n_jobs=-1)"
      ]
     },
     "execution_count": 18,
     "metadata": {},
     "output_type": "execute_result"
    }
   ],
   "source": [
    "%%time\n",
    "clf.fit(X_train, y_train)"
   ]
  },
  {
   "cell_type": "code",
   "execution_count": 19,
   "id": "031243de",
   "metadata": {},
   "outputs": [],
   "source": [
    "predict = clf.predict(X_test)"
   ]
  },
  {
   "cell_type": "code",
   "execution_count": 20,
   "id": "e40f3347",
   "metadata": {},
   "outputs": [],
   "source": [
    "mse_rf = mean_squared_error(y_test, predict,squared=False)"
   ]
  },
  {
   "cell_type": "code",
   "execution_count": 24,
   "id": "8c2b4cff",
   "metadata": {},
   "outputs": [
    {
     "data": {
      "text/plain": [
       "'mean_squared_error of random forest 2909698.8018964212'"
      ]
     },
     "execution_count": 24,
     "metadata": {},
     "output_type": "execute_result"
    }
   ],
   "source": [
    "f'mean_squared_error of random forest {mse_rf}'"
   ]
  },
  {
   "cell_type": "code",
   "execution_count": null,
   "id": "28c19cca-3c18-47b6-8600-7475860829f7",
   "metadata": {},
   "outputs": [],
   "source": []
  },
  {
   "cell_type": "code",
   "execution_count": null,
   "id": "ae3e3f9a-ea1e-4f39-b7b6-ffd92238733b",
   "metadata": {},
   "outputs": [],
   "source": []
  },
  {
   "cell_type": "code",
   "execution_count": 207,
   "id": "4e7175af-2216-48d3-b3a9-1b62d6283624",
   "metadata": {},
   "outputs": [],
   "source": [
    "sample = {'brand': 'brand_Audi', 'year': '2016', 'milage': '10000', 'fuel_type': 'fuel_type_Gasoline', 'engine': '3.5', 'color': 'color_Orange', 'accident': '0'}"
   ]
  },
  {
   "cell_type": "code",
   "execution_count": 208,
   "id": "854bff51-1d39-4fe0-bb17-02ca74038e8f",
   "metadata": {},
   "outputs": [],
   "source": [
    "sample = pd.Series(sample)\n",
    "\n",
    "df_sample = pd.DataFrame(sample, columns=['sample'])\n",
    "\n",
    "df_sample = df_sample.T\n",
    "\n",
    "df_sample[['year', 'milage', 'engine', 'accident']] = df_sample[['year', 'milage', 'engine', 'accident']].astype('float64')"
   ]
  },
  {
   "cell_type": "code",
   "execution_count": 209,
   "id": "f3b60359-9bcf-4d59-b8cc-3fc7e929a6eb",
   "metadata": {},
   "outputs": [],
   "source": [
    "sample_X = df_sample.rename(columns={'brand': df_sample['brand'].values[0], \n",
    "                                     'color': df_sample['color'].values[0],\n",
    "                                     'fuel_type': df_sample['fuel_type'].values[0]})"
   ]
  },
  {
   "cell_type": "code",
   "execution_count": 210,
   "id": "2e43ab00-4c3e-48d4-a3d3-700ecb6f96ac",
   "metadata": {},
   "outputs": [
    {
     "data": {
      "text/html": [
       "<div>\n",
       "<style scoped>\n",
       "    .dataframe tbody tr th:only-of-type {\n",
       "        vertical-align: middle;\n",
       "    }\n",
       "\n",
       "    .dataframe tbody tr th {\n",
       "        vertical-align: top;\n",
       "    }\n",
       "\n",
       "    .dataframe thead th {\n",
       "        text-align: right;\n",
       "    }\n",
       "</style>\n",
       "<table border=\"1\" class=\"dataframe\">\n",
       "  <thead>\n",
       "    <tr style=\"text-align: right;\">\n",
       "      <th></th>\n",
       "      <th>brand_Audi</th>\n",
       "      <th>year</th>\n",
       "      <th>milage</th>\n",
       "      <th>fuel_type_Gasoline</th>\n",
       "      <th>engine</th>\n",
       "      <th>color_Orange</th>\n",
       "      <th>accident</th>\n",
       "    </tr>\n",
       "  </thead>\n",
       "  <tbody>\n",
       "    <tr>\n",
       "      <th>sample</th>\n",
       "      <td>brand_Audi</td>\n",
       "      <td>2016.0</td>\n",
       "      <td>10000.0</td>\n",
       "      <td>fuel_type_Gasoline</td>\n",
       "      <td>3.5</td>\n",
       "      <td>color_Orange</td>\n",
       "      <td>0.0</td>\n",
       "    </tr>\n",
       "  </tbody>\n",
       "</table>\n",
       "</div>"
      ],
      "text/plain": [
       "        brand_Audi    year   milage  fuel_type_Gasoline  engine  color_Orange  \\\n",
       "sample  brand_Audi  2016.0  10000.0  fuel_type_Gasoline     3.5  color_Orange   \n",
       "\n",
       "        accident  \n",
       "sample       0.0  "
      ]
     },
     "execution_count": 210,
     "metadata": {},
     "output_type": "execute_result"
    }
   ],
   "source": [
    "sample_X"
   ]
  },
  {
   "cell_type": "code",
   "execution_count": 211,
   "id": "0993d41c-6186-4f30-9bc7-2d41dd324844",
   "metadata": {},
   "outputs": [],
   "source": [
    "sample_X[[sample['brand'], sample['color'], sample['fuel_type']]] = 1.0"
   ]
  },
  {
   "cell_type": "code",
   "execution_count": 212,
   "id": "6e086d75-a6e6-43fe-a7f9-25438d3de833",
   "metadata": {},
   "outputs": [
    {
     "data": {
      "text/html": [
       "<div>\n",
       "<style scoped>\n",
       "    .dataframe tbody tr th:only-of-type {\n",
       "        vertical-align: middle;\n",
       "    }\n",
       "\n",
       "    .dataframe tbody tr th {\n",
       "        vertical-align: top;\n",
       "    }\n",
       "\n",
       "    .dataframe thead th {\n",
       "        text-align: right;\n",
       "    }\n",
       "</style>\n",
       "<table border=\"1\" class=\"dataframe\">\n",
       "  <thead>\n",
       "    <tr style=\"text-align: right;\">\n",
       "      <th></th>\n",
       "      <th>brand_Audi</th>\n",
       "      <th>year</th>\n",
       "      <th>milage</th>\n",
       "      <th>fuel_type_Gasoline</th>\n",
       "      <th>engine</th>\n",
       "      <th>color_Orange</th>\n",
       "      <th>accident</th>\n",
       "    </tr>\n",
       "  </thead>\n",
       "  <tbody>\n",
       "    <tr>\n",
       "      <th>sample</th>\n",
       "      <td>1.0</td>\n",
       "      <td>2016.0</td>\n",
       "      <td>10000.0</td>\n",
       "      <td>1.0</td>\n",
       "      <td>3.5</td>\n",
       "      <td>1.0</td>\n",
       "      <td>0.0</td>\n",
       "    </tr>\n",
       "  </tbody>\n",
       "</table>\n",
       "</div>"
      ],
      "text/plain": [
       "        brand_Audi    year   milage  fuel_type_Gasoline  engine  color_Orange  \\\n",
       "sample         1.0  2016.0  10000.0                 1.0     3.5           1.0   \n",
       "\n",
       "        accident  \n",
       "sample       0.0  "
      ]
     },
     "execution_count": 212,
     "metadata": {},
     "output_type": "execute_result"
    }
   ],
   "source": [
    "sample_X"
   ]
  },
  {
   "cell_type": "code",
   "execution_count": 213,
   "id": "81161820-1b39-4e8b-879f-458ee8fd97fc",
   "metadata": {},
   "outputs": [],
   "source": [
    "df_concat_with_sample = pd.concat([X_train, sample_X]).fillna(0.0)"
   ]
  },
  {
   "cell_type": "code",
   "execution_count": 214,
   "id": "b43cdfe0-de3b-487e-b849-04010cce4037",
   "metadata": {},
   "outputs": [],
   "source": [
    "sample = df_concat_with_sample.loc['sample']"
   ]
  },
  {
   "cell_type": "code",
   "execution_count": 215,
   "id": "23812f01-e24d-482b-b9c8-8e03becc859e",
   "metadata": {},
   "outputs": [],
   "source": [
    "sample = pd.DataFrame(sample).T"
   ]
  },
  {
   "cell_type": "code",
   "execution_count": 216,
   "id": "17a47faf-255d-4e50-8f48-36ae631a3cef",
   "metadata": {},
   "outputs": [
    {
     "data": {
      "text/plain": [
       "array([6021818.82])"
      ]
     },
     "execution_count": 216,
     "metadata": {},
     "output_type": "execute_result"
    }
   ],
   "source": [
    "clf.predict(sample)"
   ]
  },
  {
   "cell_type": "code",
   "execution_count": null,
   "id": "7f017a14-bb49-4f1e-8b08-3f6c1cd470c8",
   "metadata": {},
   "outputs": [],
   "source": []
  }
 ],
 "metadata": {
  "kernelspec": {
   "display_name": "Python 3 (ipykernel)",
   "language": "python",
   "name": "python3"
  },
  "language_info": {
   "codemirror_mode": {
    "name": "ipython",
    "version": 3
   },
   "file_extension": ".py",
   "mimetype": "text/x-python",
   "name": "python",
   "nbconvert_exporter": "python",
   "pygments_lexer": "ipython3",
   "version": "3.11.7"
  }
 },
 "nbformat": 4,
 "nbformat_minor": 5
}
