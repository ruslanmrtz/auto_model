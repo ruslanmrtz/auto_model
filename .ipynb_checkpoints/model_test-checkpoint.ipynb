{
 "cells": [
  {
   "cell_type": "markdown",
   "id": "7331fcbb",
   "metadata": {},
   "source": [
    "## Импорт библиотек"
   ]
  },
  {
   "cell_type": "code",
   "execution_count": 1,
   "id": "1dcdba09",
   "metadata": {},
   "outputs": [],
   "source": [
    "import pandas as pd\n",
    "\n",
    "import re\n",
    "\n",
    "from sklearn.model_selection import train_test_split, GridSearchCV\n",
    "from sklearn.ensemble import RandomForestRegressor\n",
    "from sklearn.metrics import mean_squared_error\n",
    "\n",
    "import lightgbm as lgb\n",
    "\n",
    "import joblib"
   ]
  },
  {
   "cell_type": "markdown",
   "id": "b9b05be5",
   "metadata": {},
   "source": [
    "## Читаем датасет и оставляем фичи для дальнейшей работы"
   ]
  },
  {
   "cell_type": "code",
   "execution_count": 98,
   "id": "8bc0a1ee",
   "metadata": {},
   "outputs": [],
   "source": [
    "df1 = pd.read_csv('data/used_cars.csv')"
   ]
  },
  {
   "cell_type": "code",
   "execution_count": 99,
   "id": "b1ed4cf1",
   "metadata": {},
   "outputs": [],
   "source": [
    "features = ['brand', 'model', 'model_year', 'milage', 'fuel_type', 'engine', 'ext_col', 'price']"
   ]
  },
  {
   "cell_type": "code",
   "execution_count": 100,
   "id": "05edcb45",
   "metadata": {},
   "outputs": [],
   "source": [
    "df1 = df1[features]"
   ]
  },
  {
   "cell_type": "code",
   "execution_count": 101,
   "id": "b4ad73a5",
   "metadata": {},
   "outputs": [
    {
     "data": {
      "text/html": [
       "<div>\n",
       "<style scoped>\n",
       "    .dataframe tbody tr th:only-of-type {\n",
       "        vertical-align: middle;\n",
       "    }\n",
       "\n",
       "    .dataframe tbody tr th {\n",
       "        vertical-align: top;\n",
       "    }\n",
       "\n",
       "    .dataframe thead th {\n",
       "        text-align: right;\n",
       "    }\n",
       "</style>\n",
       "<table border=\"1\" class=\"dataframe\">\n",
       "  <thead>\n",
       "    <tr style=\"text-align: right;\">\n",
       "      <th></th>\n",
       "      <th>brand</th>\n",
       "      <th>model</th>\n",
       "      <th>model_year</th>\n",
       "      <th>milage</th>\n",
       "      <th>fuel_type</th>\n",
       "      <th>engine</th>\n",
       "      <th>ext_col</th>\n",
       "      <th>price</th>\n",
       "    </tr>\n",
       "  </thead>\n",
       "  <tbody>\n",
       "    <tr>\n",
       "      <th>0</th>\n",
       "      <td>Ford</td>\n",
       "      <td>Utility Police Interceptor Base</td>\n",
       "      <td>2013</td>\n",
       "      <td>51,000 mi.</td>\n",
       "      <td>E85 Flex Fuel</td>\n",
       "      <td>300.0HP 3.7L V6 Cylinder Engine Flex Fuel Capability</td>\n",
       "      <td>Black</td>\n",
       "      <td>$10,300</td>\n",
       "    </tr>\n",
       "    <tr>\n",
       "      <th>1</th>\n",
       "      <td>Hyundai</td>\n",
       "      <td>Palisade SEL</td>\n",
       "      <td>2021</td>\n",
       "      <td>34,742 mi.</td>\n",
       "      <td>Gasoline</td>\n",
       "      <td>3.8L V6 24V GDI DOHC</td>\n",
       "      <td>Moonlight Cloud</td>\n",
       "      <td>$38,005</td>\n",
       "    </tr>\n",
       "    <tr>\n",
       "      <th>2</th>\n",
       "      <td>Lexus</td>\n",
       "      <td>RX 350 RX 350</td>\n",
       "      <td>2022</td>\n",
       "      <td>22,372 mi.</td>\n",
       "      <td>Gasoline</td>\n",
       "      <td>3.5 Liter DOHC</td>\n",
       "      <td>Blue</td>\n",
       "      <td>$54,598</td>\n",
       "    </tr>\n",
       "    <tr>\n",
       "      <th>3</th>\n",
       "      <td>INFINITI</td>\n",
       "      <td>Q50 Hybrid Sport</td>\n",
       "      <td>2015</td>\n",
       "      <td>88,900 mi.</td>\n",
       "      <td>Hybrid</td>\n",
       "      <td>354.0HP 3.5L V6 Cylinder Engine Gas/Electric Hybrid</td>\n",
       "      <td>Black</td>\n",
       "      <td>$15,500</td>\n",
       "    </tr>\n",
       "    <tr>\n",
       "      <th>4</th>\n",
       "      <td>Audi</td>\n",
       "      <td>Q3 45 S line Premium Plus</td>\n",
       "      <td>2021</td>\n",
       "      <td>9,835 mi.</td>\n",
       "      <td>Gasoline</td>\n",
       "      <td>2.0L I4 16V GDI DOHC Turbo</td>\n",
       "      <td>Glacier White Metallic</td>\n",
       "      <td>$34,999</td>\n",
       "    </tr>\n",
       "  </tbody>\n",
       "</table>\n",
       "</div>"
      ],
      "text/plain": [
       "      brand                            model  model_year      milage  \\\n",
       "0      Ford  Utility Police Interceptor Base        2013  51,000 mi.   \n",
       "1   Hyundai                     Palisade SEL        2021  34,742 mi.   \n",
       "2     Lexus                    RX 350 RX 350        2022  22,372 mi.   \n",
       "3  INFINITI                 Q50 Hybrid Sport        2015  88,900 mi.   \n",
       "4      Audi        Q3 45 S line Premium Plus        2021   9,835 mi.   \n",
       "\n",
       "       fuel_type                                                engine  \\\n",
       "0  E85 Flex Fuel  300.0HP 3.7L V6 Cylinder Engine Flex Fuel Capability   \n",
       "1       Gasoline                                  3.8L V6 24V GDI DOHC   \n",
       "2       Gasoline                                        3.5 Liter DOHC   \n",
       "3         Hybrid   354.0HP 3.5L V6 Cylinder Engine Gas/Electric Hybrid   \n",
       "4       Gasoline                            2.0L I4 16V GDI DOHC Turbo   \n",
       "\n",
       "                  ext_col    price  \n",
       "0                   Black  $10,300  \n",
       "1         Moonlight Cloud  $38,005  \n",
       "2                    Blue  $54,598  \n",
       "3                   Black  $15,500  \n",
       "4  Glacier White Metallic  $34,999  "
      ]
     },
     "execution_count": 101,
     "metadata": {},
     "output_type": "execute_result"
    }
   ],
   "source": [
    "df1.head()"
   ]
  },
  {
   "cell_type": "code",
   "execution_count": 102,
   "id": "ec0ae59c",
   "metadata": {},
   "outputs": [],
   "source": [
    "df2 = pd.read_csv('data/cars_data_VERSION2.csv')"
   ]
  },
  {
   "cell_type": "code",
   "execution_count": 103,
   "id": "fbc3dbad",
   "metadata": {},
   "outputs": [],
   "source": [
    "df2 = df2.drop(['Used/New', 'ConsumerRating',\n",
    "       'ConsumerReviews', 'SellerType', 'SellerName', 'SellerRating',\n",
    "       'SellerReviews', 'StreetName', 'State', 'Zipcode', 'DealType',\n",
    "       'ComfortRating', 'InteriorDesignRating', 'PerformanceRating',\n",
    "       'ValueForMoneyRating', 'ExteriorStylingRating', 'ReliabilityRating',\n",
    "       'MinMPG', 'MaxMPG', 'VIN', 'Stock#', 'InteriorColor', 'Transmission', 'Drivetrain'], axis=1)"
   ]
  },
  {
   "cell_type": "code",
   "execution_count": 104,
   "id": "6fe335ef",
   "metadata": {
    "scrolled": true
   },
   "outputs": [],
   "source": [
    "df2 = df2.rename(columns={'Year': 'model_year', 'Make': 'brand', 'Model': 'model', 'Mileage': 'milage',\n",
    "                                   'Engine': 'engine', 'FuelType': 'fuel_type', 'ExteriorColor': 'ext_col', 'Price': 'price'})"
   ]
  },
  {
   "cell_type": "code",
   "execution_count": 107,
   "id": "41a05dc3-2944-45f9-bbee-98cb168e765d",
   "metadata": {},
   "outputs": [],
   "source": [
    "df2['milage']  = df2['milage'] / 100"
   ]
  },
  {
   "cell_type": "code",
   "execution_count": 108,
   "id": "d6c9573f-d7b8-48b7-b65f-c011f773933a",
   "metadata": {},
   "outputs": [],
   "source": [
    "df1['milage'] = df1['milage'].apply(lambda x: x[:-4].replace(',', '.')).map(float) * 1.61"
   ]
  },
  {
   "cell_type": "code",
   "execution_count": 164,
   "id": "7419824c-4dec-42d9-b28b-6a16e2ad4be7",
   "metadata": {},
   "outputs": [],
   "source": [
    "dataset = pd.concat([df1, df2])"
   ]
  },
  {
   "cell_type": "code",
   "execution_count": 165,
   "id": "ff424696-3bef-4618-9e82-3f7637dc1816",
   "metadata": {},
   "outputs": [],
   "source": [
    "dataset.model_year = dataset.model_year.astype('int64')"
   ]
  },
  {
   "cell_type": "code",
   "execution_count": 166,
   "id": "ba7e88de-eefb-45b2-8c2a-6c95e2b80f22",
   "metadata": {},
   "outputs": [],
   "source": [
    "dataset = dataset[dataset['model_year'] > 2000]"
   ]
  },
  {
   "cell_type": "markdown",
   "id": "c46640fc",
   "metadata": {},
   "source": [
    "## Предобработка данных"
   ]
  },
  {
   "cell_type": "code",
   "execution_count": 167,
   "id": "a2dc092b",
   "metadata": {
    "scrolled": true
   },
   "outputs": [],
   "source": [
    "dataset = dataset.rename(columns={'model_year': 'year'})"
   ]
  },
  {
   "cell_type": "code",
   "execution_count": 168,
   "id": "216c3eb9",
   "metadata": {},
   "outputs": [],
   "source": [
    "fuel = dataset.fuel_type.replace(['–', 'not supported', 'Electric Fuel System',\n",
    "       'Gasoline/Mild Electric Hybrid', 'Flex Fuel Capability',\n",
    "       'not supported', 'Flexible Fuel', 'Plug-In Electric/Gas',\n",
    "       'Diesel Fuel', 'Gasoline Fuel'], 'Gasoline')\n",
    "\n",
    "fuel = dataset.fuel_type.replace(['Plug-In Hybrid'], 'Electric')\n",
    "fuel = fuel.fillna('Gasoline')\n",
    "dataset['fuel_type'] = fuel"
   ]
  },
  {
   "cell_type": "code",
   "execution_count": 169,
   "id": "0e4d884f",
   "metadata": {},
   "outputs": [],
   "source": [
    "l = []\n",
    "pattern = '\\d\\.\\dL'\n",
    "for engine in dataset.engine:\n",
    "    result = re.search(pattern, engine)\n",
    "    if result:\n",
    "        l.append(float(result.group()[:-1]))\n",
    "    else:\n",
    "        l.append(0)\n",
    "        \n",
    "engine = pd.Series(l)\n",
    "engine = engine.replace(0, engine.median())\n",
    "dataset['engine'] = engine"
   ]
  },
  {
   "cell_type": "code",
   "execution_count": 170,
   "id": "ea085c07",
   "metadata": {},
   "outputs": [],
   "source": [
    "selected_colors = df1.ext_col.value_counts().head(12).index\n",
    "all_colors = dataset.ext_col.unique()\n",
    "\n",
    "colors_to_drop = [color for color in all_colors if color not in selected_colors]\n",
    "\n",
    "color = dataset['ext_col'].replace(colors_to_drop, 'Black')\n",
    "\n",
    "dataset['ext_col'] = color\n",
    "dataset = dataset.rename(columns={'ext_col': 'color'})"
   ]
  },
  {
   "cell_type": "code",
   "execution_count": 163,
   "id": "8864c540",
   "metadata": {},
   "outputs": [
    {
     "ename": "ValueError",
     "evalue": "could not convert string to float: 'ot Priced'",
     "output_type": "error",
     "traceback": [
      "\u001b[1;31m---------------------------------------------------------------------------\u001b[0m",
      "\u001b[1;31mValueError\u001b[0m                                Traceback (most recent call last)",
      "Cell \u001b[1;32mIn[163], line 1\u001b[0m\n\u001b[1;32m----> 1\u001b[0m dataset[\u001b[38;5;124m'\u001b[39m\u001b[38;5;124mprice\u001b[39m\u001b[38;5;124m'\u001b[39m] \u001b[38;5;241m=\u001b[39m dataset[\u001b[38;5;124m'\u001b[39m\u001b[38;5;124mprice\u001b[39m\u001b[38;5;124m'\u001b[39m]\u001b[38;5;241m.\u001b[39mmap(\u001b[38;5;28;01mlambda\u001b[39;00m x: \u001b[38;5;28mfloat\u001b[39m(x[\u001b[38;5;241m1\u001b[39m:]\u001b[38;5;241m.\u001b[39mreplace(\u001b[38;5;124m'\u001b[39m\u001b[38;5;124m,\u001b[39m\u001b[38;5;124m'\u001b[39m, \u001b[38;5;124m'\u001b[39m\u001b[38;5;124m'\u001b[39m))) \u001b[38;5;241m*\u001b[39m \u001b[38;5;241m93\u001b[39m\n",
      "File \u001b[1;32mD:\\Anaconda\\Lib\\site-packages\\pandas\\core\\series.py:4544\u001b[0m, in \u001b[0;36mSeries.map\u001b[1;34m(self, arg, na_action)\u001b[0m\n\u001b[0;32m   4464\u001b[0m \u001b[38;5;28;01mdef\u001b[39;00m \u001b[38;5;21mmap\u001b[39m(\n\u001b[0;32m   4465\u001b[0m     \u001b[38;5;28mself\u001b[39m,\n\u001b[0;32m   4466\u001b[0m     arg: Callable \u001b[38;5;241m|\u001b[39m Mapping \u001b[38;5;241m|\u001b[39m Series,\n\u001b[0;32m   4467\u001b[0m     na_action: Literal[\u001b[38;5;124m\"\u001b[39m\u001b[38;5;124mignore\u001b[39m\u001b[38;5;124m\"\u001b[39m] \u001b[38;5;241m|\u001b[39m \u001b[38;5;28;01mNone\u001b[39;00m \u001b[38;5;241m=\u001b[39m \u001b[38;5;28;01mNone\u001b[39;00m,\n\u001b[0;32m   4468\u001b[0m ) \u001b[38;5;241m-\u001b[39m\u001b[38;5;241m>\u001b[39m Series:\n\u001b[0;32m   4469\u001b[0m \u001b[38;5;250m    \u001b[39m\u001b[38;5;124;03m\"\"\"\u001b[39;00m\n\u001b[0;32m   4470\u001b[0m \u001b[38;5;124;03m    Map values of Series according to an input mapping or function.\u001b[39;00m\n\u001b[0;32m   4471\u001b[0m \n\u001b[1;32m   (...)\u001b[0m\n\u001b[0;32m   4542\u001b[0m \u001b[38;5;124;03m    dtype: object\u001b[39;00m\n\u001b[0;32m   4543\u001b[0m \u001b[38;5;124;03m    \"\"\"\u001b[39;00m\n\u001b[1;32m-> 4544\u001b[0m     new_values \u001b[38;5;241m=\u001b[39m \u001b[38;5;28mself\u001b[39m\u001b[38;5;241m.\u001b[39m_map_values(arg, na_action\u001b[38;5;241m=\u001b[39mna_action)\n\u001b[0;32m   4545\u001b[0m     \u001b[38;5;28;01mreturn\u001b[39;00m \u001b[38;5;28mself\u001b[39m\u001b[38;5;241m.\u001b[39m_constructor(new_values, index\u001b[38;5;241m=\u001b[39m\u001b[38;5;28mself\u001b[39m\u001b[38;5;241m.\u001b[39mindex, copy\u001b[38;5;241m=\u001b[39m\u001b[38;5;28;01mFalse\u001b[39;00m)\u001b[38;5;241m.\u001b[39m__finalize__(\n\u001b[0;32m   4546\u001b[0m         \u001b[38;5;28mself\u001b[39m, method\u001b[38;5;241m=\u001b[39m\u001b[38;5;124m\"\u001b[39m\u001b[38;5;124mmap\u001b[39m\u001b[38;5;124m\"\u001b[39m\n\u001b[0;32m   4547\u001b[0m     )\n",
      "File \u001b[1;32mD:\\Anaconda\\Lib\\site-packages\\pandas\\core\\base.py:921\u001b[0m, in \u001b[0;36mIndexOpsMixin._map_values\u001b[1;34m(self, mapper, na_action, convert)\u001b[0m\n\u001b[0;32m    918\u001b[0m \u001b[38;5;28;01mif\u001b[39;00m \u001b[38;5;28misinstance\u001b[39m(arr, ExtensionArray):\n\u001b[0;32m    919\u001b[0m     \u001b[38;5;28;01mreturn\u001b[39;00m arr\u001b[38;5;241m.\u001b[39mmap(mapper, na_action\u001b[38;5;241m=\u001b[39mna_action)\n\u001b[1;32m--> 921\u001b[0m \u001b[38;5;28;01mreturn\u001b[39;00m algorithms\u001b[38;5;241m.\u001b[39mmap_array(arr, mapper, na_action\u001b[38;5;241m=\u001b[39mna_action, convert\u001b[38;5;241m=\u001b[39mconvert)\n",
      "File \u001b[1;32mD:\\Anaconda\\Lib\\site-packages\\pandas\\core\\algorithms.py:1814\u001b[0m, in \u001b[0;36mmap_array\u001b[1;34m(arr, mapper, na_action, convert)\u001b[0m\n\u001b[0;32m   1812\u001b[0m values \u001b[38;5;241m=\u001b[39m arr\u001b[38;5;241m.\u001b[39mastype(\u001b[38;5;28mobject\u001b[39m, copy\u001b[38;5;241m=\u001b[39m\u001b[38;5;28;01mFalse\u001b[39;00m)\n\u001b[0;32m   1813\u001b[0m \u001b[38;5;28;01mif\u001b[39;00m na_action \u001b[38;5;129;01mis\u001b[39;00m \u001b[38;5;28;01mNone\u001b[39;00m:\n\u001b[1;32m-> 1814\u001b[0m     \u001b[38;5;28;01mreturn\u001b[39;00m lib\u001b[38;5;241m.\u001b[39mmap_infer(values, mapper, convert\u001b[38;5;241m=\u001b[39mconvert)\n\u001b[0;32m   1815\u001b[0m \u001b[38;5;28;01melse\u001b[39;00m:\n\u001b[0;32m   1816\u001b[0m     \u001b[38;5;28;01mreturn\u001b[39;00m lib\u001b[38;5;241m.\u001b[39mmap_infer_mask(\n\u001b[0;32m   1817\u001b[0m         values, mapper, mask\u001b[38;5;241m=\u001b[39misna(values)\u001b[38;5;241m.\u001b[39mview(np\u001b[38;5;241m.\u001b[39muint8), convert\u001b[38;5;241m=\u001b[39mconvert\n\u001b[0;32m   1818\u001b[0m     )\n",
      "File \u001b[1;32mlib.pyx:2926\u001b[0m, in \u001b[0;36mpandas._libs.lib.map_infer\u001b[1;34m()\u001b[0m\n",
      "Cell \u001b[1;32mIn[163], line 1\u001b[0m, in \u001b[0;36m<lambda>\u001b[1;34m(x)\u001b[0m\n\u001b[1;32m----> 1\u001b[0m dataset[\u001b[38;5;124m'\u001b[39m\u001b[38;5;124mprice\u001b[39m\u001b[38;5;124m'\u001b[39m] \u001b[38;5;241m=\u001b[39m dataset[\u001b[38;5;124m'\u001b[39m\u001b[38;5;124mprice\u001b[39m\u001b[38;5;124m'\u001b[39m]\u001b[38;5;241m.\u001b[39mmap(\u001b[38;5;28;01mlambda\u001b[39;00m x: \u001b[38;5;28mfloat\u001b[39m(x[\u001b[38;5;241m1\u001b[39m:]\u001b[38;5;241m.\u001b[39mreplace(\u001b[38;5;124m'\u001b[39m\u001b[38;5;124m,\u001b[39m\u001b[38;5;124m'\u001b[39m, \u001b[38;5;124m'\u001b[39m\u001b[38;5;124m'\u001b[39m))) \u001b[38;5;241m*\u001b[39m \u001b[38;5;241m93\u001b[39m\n",
      "\u001b[1;31mValueError\u001b[0m: could not convert string to float: 'ot Priced'"
     ]
    }
   ],
   "source": [
    "dataset['price'] = dataset['price'].map(lambda x: float(x[1:].replace(',', ''))) * 93"
   ]
  },
  {
   "cell_type": "code",
   "execution_count": 172,
   "id": "4512eeb8",
   "metadata": {},
   "outputs": [
    {
     "data": {
      "text/plain": [
       "0       $10,300\n",
       "1       $38,005\n",
       "2       $54,598\n",
       "3       $15,500\n",
       "4       $34,999\n",
       "         ...   \n",
       "9374    $27,374\n",
       "9375    $61,998\n",
       "9376    $26,944\n",
       "9377    $28,568\n",
       "9378    $32,091\n",
       "Name: price, Length: 13304, dtype: object"
      ]
     },
     "execution_count": 172,
     "metadata": {},
     "output_type": "execute_result"
    }
   ],
   "source": [
    "dataset['price']"
   ]
  }
 ],
 "metadata": {
  "kernelspec": {
   "display_name": "Python 3 (ipykernel)",
   "language": "python",
   "name": "python3"
  },
  "language_info": {
   "codemirror_mode": {
    "name": "ipython",
    "version": 3
   },
   "file_extension": ".py",
   "mimetype": "text/x-python",
   "name": "python",
   "nbconvert_exporter": "python",
   "pygments_lexer": "ipython3",
   "version": "3.11.7"
  }
 },
 "nbformat": 4,
 "nbformat_minor": 5
}
