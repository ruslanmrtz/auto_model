{
 "cells": [
  {
   "cell_type": "markdown",
   "id": "7331fcbb",
   "metadata": {},
   "source": [
    "## Импорт библиотек"
   ]
  },
  {
   "cell_type": "code",
   "execution_count": 7,
   "id": "1dcdba09",
   "metadata": {},
   "outputs": [],
   "source": [
    "import pandas as pd\n",
    "\n",
    "import re\n",
    "\n",
    "from sklearn.model_selection import train_test_split, GridSearchCV\n",
    "from sklearn.ensemble import RandomForestRegressor\n",
    "from sklearn.metrics import mean_squared_error\n",
    "\n",
    "import lightgbm as lgb\n",
    "\n",
    "import joblib"
   ]
  },
  {
   "cell_type": "code",
   "execution_count": 29,
   "id": "cff3b964",
   "metadata": {
    "scrolled": false
   },
   "outputs": [],
   "source": [
    "pd.set_option('display.max_colwidth', 100)"
   ]
  },
  {
   "cell_type": "markdown",
   "id": "b9b05be5",
   "metadata": {},
   "source": [
    "## Читаем датасет и оставляем фичи для дальнейшей работы"
   ]
  },
  {
   "cell_type": "code",
   "execution_count": 47,
   "id": "8bc0a1ee",
   "metadata": {},
   "outputs": [],
   "source": [
    "df = pd.read_csv('data/used_cars.csv')"
   ]
  },
  {
   "cell_type": "code",
   "execution_count": 48,
   "id": "b1ed4cf1",
   "metadata": {},
   "outputs": [],
   "source": [
    "features = ['brand', 'model', 'model_year', 'milage', 'fuel_type', 'engine', 'ext_col','accident', 'price']"
   ]
  },
  {
   "cell_type": "code",
   "execution_count": 49,
   "id": "05edcb45",
   "metadata": {},
   "outputs": [],
   "source": [
    "dataset = df[features]"
   ]
  },
  {
   "cell_type": "code",
   "execution_count": 50,
   "id": "b4ad73a5",
   "metadata": {},
   "outputs": [
    {
     "data": {
      "text/html": [
       "<div>\n",
       "<style scoped>\n",
       "    .dataframe tbody tr th:only-of-type {\n",
       "        vertical-align: middle;\n",
       "    }\n",
       "\n",
       "    .dataframe tbody tr th {\n",
       "        vertical-align: top;\n",
       "    }\n",
       "\n",
       "    .dataframe thead th {\n",
       "        text-align: right;\n",
       "    }\n",
       "</style>\n",
       "<table border=\"1\" class=\"dataframe\">\n",
       "  <thead>\n",
       "    <tr style=\"text-align: right;\">\n",
       "      <th></th>\n",
       "      <th>brand</th>\n",
       "      <th>model</th>\n",
       "      <th>model_year</th>\n",
       "      <th>milage</th>\n",
       "      <th>fuel_type</th>\n",
       "      <th>engine</th>\n",
       "      <th>ext_col</th>\n",
       "      <th>accident</th>\n",
       "      <th>price</th>\n",
       "    </tr>\n",
       "  </thead>\n",
       "  <tbody>\n",
       "    <tr>\n",
       "      <th>0</th>\n",
       "      <td>Ford</td>\n",
       "      <td>Utility Police Interceptor Base</td>\n",
       "      <td>2013</td>\n",
       "      <td>51,000 mi.</td>\n",
       "      <td>E85 Flex Fuel</td>\n",
       "      <td>300.0HP 3.7L V6 Cylinder Engine Flex Fuel Capability</td>\n",
       "      <td>Black</td>\n",
       "      <td>At least 1 accident or damage reported</td>\n",
       "      <td>$10,300</td>\n",
       "    </tr>\n",
       "    <tr>\n",
       "      <th>1</th>\n",
       "      <td>Hyundai</td>\n",
       "      <td>Palisade SEL</td>\n",
       "      <td>2021</td>\n",
       "      <td>34,742 mi.</td>\n",
       "      <td>Gasoline</td>\n",
       "      <td>3.8L V6 24V GDI DOHC</td>\n",
       "      <td>Moonlight Cloud</td>\n",
       "      <td>At least 1 accident or damage reported</td>\n",
       "      <td>$38,005</td>\n",
       "    </tr>\n",
       "    <tr>\n",
       "      <th>2</th>\n",
       "      <td>Lexus</td>\n",
       "      <td>RX 350 RX 350</td>\n",
       "      <td>2022</td>\n",
       "      <td>22,372 mi.</td>\n",
       "      <td>Gasoline</td>\n",
       "      <td>3.5 Liter DOHC</td>\n",
       "      <td>Blue</td>\n",
       "      <td>None reported</td>\n",
       "      <td>$54,598</td>\n",
       "    </tr>\n",
       "    <tr>\n",
       "      <th>3</th>\n",
       "      <td>INFINITI</td>\n",
       "      <td>Q50 Hybrid Sport</td>\n",
       "      <td>2015</td>\n",
       "      <td>88,900 mi.</td>\n",
       "      <td>Hybrid</td>\n",
       "      <td>354.0HP 3.5L V6 Cylinder Engine Gas/Electric Hybrid</td>\n",
       "      <td>Black</td>\n",
       "      <td>None reported</td>\n",
       "      <td>$15,500</td>\n",
       "    </tr>\n",
       "    <tr>\n",
       "      <th>4</th>\n",
       "      <td>Audi</td>\n",
       "      <td>Q3 45 S line Premium Plus</td>\n",
       "      <td>2021</td>\n",
       "      <td>9,835 mi.</td>\n",
       "      <td>Gasoline</td>\n",
       "      <td>2.0L I4 16V GDI DOHC Turbo</td>\n",
       "      <td>Glacier White Metallic</td>\n",
       "      <td>None reported</td>\n",
       "      <td>$34,999</td>\n",
       "    </tr>\n",
       "  </tbody>\n",
       "</table>\n",
       "</div>"
      ],
      "text/plain": [
       "      brand                            model  model_year      milage  \\\n",
       "0      Ford  Utility Police Interceptor Base        2013  51,000 mi.   \n",
       "1   Hyundai                     Palisade SEL        2021  34,742 mi.   \n",
       "2     Lexus                    RX 350 RX 350        2022  22,372 mi.   \n",
       "3  INFINITI                 Q50 Hybrid Sport        2015  88,900 mi.   \n",
       "4      Audi        Q3 45 S line Premium Plus        2021   9,835 mi.   \n",
       "\n",
       "       fuel_type                                                engine  \\\n",
       "0  E85 Flex Fuel  300.0HP 3.7L V6 Cylinder Engine Flex Fuel Capability   \n",
       "1       Gasoline                                  3.8L V6 24V GDI DOHC   \n",
       "2       Gasoline                                        3.5 Liter DOHC   \n",
       "3         Hybrid   354.0HP 3.5L V6 Cylinder Engine Gas/Electric Hybrid   \n",
       "4       Gasoline                            2.0L I4 16V GDI DOHC Turbo   \n",
       "\n",
       "                  ext_col                                accident    price  \n",
       "0                   Black  At least 1 accident or damage reported  $10,300  \n",
       "1         Moonlight Cloud  At least 1 accident or damage reported  $38,005  \n",
       "2                    Blue                           None reported  $54,598  \n",
       "3                   Black                           None reported  $15,500  \n",
       "4  Glacier White Metallic                           None reported  $34,999  "
      ]
     },
     "execution_count": 50,
     "metadata": {},
     "output_type": "execute_result"
    }
   ],
   "source": [
    "dataset.head()"
   ]
  },
  {
   "cell_type": "code",
   "execution_count": 52,
   "id": "ec0ae59c",
   "metadata": {},
   "outputs": [],
   "source": [
    "df2 = pd.read_csv('data/cars_data_VERSION2.csv')"
   ]
  },
  {
   "cell_type": "code",
   "execution_count": 53,
   "id": "fbc3dbad",
   "metadata": {},
   "outputs": [],
   "source": [
    "dataset2 = df2.drop(['Used/New', 'ConsumerRating',\n",
    "       'ConsumerReviews', 'SellerType', 'SellerName', 'SellerRating',\n",
    "       'SellerReviews', 'StreetName', 'State', 'Zipcode', 'DealType',\n",
    "       'ComfortRating', 'InteriorDesignRating', 'PerformanceRating',\n",
    "       'ValueForMoneyRating', 'ExteriorStylingRating', 'ReliabilityRating',\n",
    "       'MinMPG', 'MaxMPG', 'VIN', 'Stock#', 'InteriorColor', 'Transmission'], axis=1)"
   ]
  },
  {
   "cell_type": "code",
   "execution_count": 58,
   "id": "6fe335ef",
   "metadata": {
    "scrolled": true
   },
   "outputs": [],
   "source": [
    "dataset2 = dataset2.rename(columns={'Year': 'model_year', 'Make': 'brand', 'Model': 'model', 'Mileage': 'milage',\n",
    "                                   'Engine': 'engine', 'FuelType': 'fuel_type', 'ExteriorColor': 'ext_col'})"
   ]
  },
  {
   "cell_type": "code",
   "execution_count": 59,
   "id": "cdd15e40",
   "metadata": {},
   "outputs": [
    {
     "data": {
      "text/html": [
       "<div>\n",
       "<style scoped>\n",
       "    .dataframe tbody tr th:only-of-type {\n",
       "        vertical-align: middle;\n",
       "    }\n",
       "\n",
       "    .dataframe tbody tr th {\n",
       "        vertical-align: top;\n",
       "    }\n",
       "\n",
       "    .dataframe thead th {\n",
       "        text-align: right;\n",
       "    }\n",
       "</style>\n",
       "<table border=\"1\" class=\"dataframe\">\n",
       "  <thead>\n",
       "    <tr style=\"text-align: right;\">\n",
       "      <th></th>\n",
       "      <th>model_year</th>\n",
       "      <th>brand</th>\n",
       "      <th>model</th>\n",
       "      <th>Price</th>\n",
       "      <th>ext_col</th>\n",
       "      <th>Drivetrain</th>\n",
       "      <th>fuel_type</th>\n",
       "      <th>engine</th>\n",
       "      <th>milage</th>\n",
       "    </tr>\n",
       "  </thead>\n",
       "  <tbody>\n",
       "    <tr>\n",
       "      <th>0</th>\n",
       "      <td>2019</td>\n",
       "      <td>Toyota</td>\n",
       "      <td>Sienna SE</td>\n",
       "      <td>$39,998</td>\n",
       "      <td>Red</td>\n",
       "      <td>Front-wheel Drive</td>\n",
       "      <td>Gasoline</td>\n",
       "      <td>3.5L V6 24V PDI DOHC</td>\n",
       "      <td>29403</td>\n",
       "    </tr>\n",
       "    <tr>\n",
       "      <th>1</th>\n",
       "      <td>2018</td>\n",
       "      <td>Ford</td>\n",
       "      <td>F-150 Lariat</td>\n",
       "      <td>$49,985</td>\n",
       "      <td>Shadow Black</td>\n",
       "      <td>Four-wheel Drive</td>\n",
       "      <td>Gasoline</td>\n",
       "      <td>3.5L V6 24V PDI DOHC Twin Turbo</td>\n",
       "      <td>32929</td>\n",
       "    </tr>\n",
       "    <tr>\n",
       "      <th>2</th>\n",
       "      <td>2017</td>\n",
       "      <td>RAM</td>\n",
       "      <td>1500 Laramie</td>\n",
       "      <td>$41,860</td>\n",
       "      <td>Granite Crystal Clearcoat Metallic</td>\n",
       "      <td>Four-wheel Drive</td>\n",
       "      <td>Gasoline</td>\n",
       "      <td>5.7L V8 16V MPFI OHV</td>\n",
       "      <td>23173</td>\n",
       "    </tr>\n",
       "    <tr>\n",
       "      <th>3</th>\n",
       "      <td>2021</td>\n",
       "      <td>Honda</td>\n",
       "      <td>Accord Sport SE</td>\n",
       "      <td>$28,500</td>\n",
       "      <td>Gray</td>\n",
       "      <td>Front-wheel Drive</td>\n",
       "      <td>Gasoline</td>\n",
       "      <td>1.5L I4 16V GDI DOHC Turbo</td>\n",
       "      <td>10598</td>\n",
       "    </tr>\n",
       "    <tr>\n",
       "      <th>4</th>\n",
       "      <td>2020</td>\n",
       "      <td>Lexus</td>\n",
       "      <td>RX 350</td>\n",
       "      <td>$49,000</td>\n",
       "      <td>Eminent White Pearl</td>\n",
       "      <td>Front-wheel Drive</td>\n",
       "      <td>Gasoline</td>\n",
       "      <td>3.5L V6 24V PDI DOHC</td>\n",
       "      <td>28137</td>\n",
       "    </tr>\n",
       "    <tr>\n",
       "      <th>...</th>\n",
       "      <td>...</td>\n",
       "      <td>...</td>\n",
       "      <td>...</td>\n",
       "      <td>...</td>\n",
       "      <td>...</td>\n",
       "      <td>...</td>\n",
       "      <td>...</td>\n",
       "      <td>...</td>\n",
       "      <td>...</td>\n",
       "    </tr>\n",
       "    <tr>\n",
       "      <th>9374</th>\n",
       "      <td>2019</td>\n",
       "      <td>Subaru</td>\n",
       "      <td>Crosstrek 2.0i Premium</td>\n",
       "      <td>$27,374</td>\n",
       "      <td>Quartz Blue Pearl</td>\n",
       "      <td>All-wheel Drive</td>\n",
       "      <td>Gasoline</td>\n",
       "      <td>2.0L H4 16V GDI DOHC</td>\n",
       "      <td>15606</td>\n",
       "    </tr>\n",
       "    <tr>\n",
       "      <th>9375</th>\n",
       "      <td>2019</td>\n",
       "      <td>Audi</td>\n",
       "      <td>Q8 3.0T Premium</td>\n",
       "      <td>$61,998</td>\n",
       "      <td>Night Black</td>\n",
       "      <td>All-wheel Drive</td>\n",
       "      <td>Hybrid</td>\n",
       "      <td>3.0L V6 24V GDI DOHC Turbo Hybrid</td>\n",
       "      <td>46855</td>\n",
       "    </tr>\n",
       "    <tr>\n",
       "      <th>9376</th>\n",
       "      <td>2017</td>\n",
       "      <td>Buick</td>\n",
       "      <td>Enclave Leather</td>\n",
       "      <td>$26,944</td>\n",
       "      <td>Ebony Twilight Metallic</td>\n",
       "      <td>All-wheel Drive</td>\n",
       "      <td>Gasoline</td>\n",
       "      <td>3.6L V6 24V GDI DOHC</td>\n",
       "      <td>62649</td>\n",
       "    </tr>\n",
       "    <tr>\n",
       "      <th>9377</th>\n",
       "      <td>2019</td>\n",
       "      <td>Subaru</td>\n",
       "      <td>Forester Premium</td>\n",
       "      <td>$28,568</td>\n",
       "      <td>Crystal Black Silica</td>\n",
       "      <td>All-wheel Drive</td>\n",
       "      <td>Gasoline</td>\n",
       "      <td>2.5L H4 16V GDI DOHC</td>\n",
       "      <td>30760</td>\n",
       "    </tr>\n",
       "    <tr>\n",
       "      <th>9378</th>\n",
       "      <td>2019</td>\n",
       "      <td>Hyundai</td>\n",
       "      <td>Santa Fe Ultimate 2.4</td>\n",
       "      <td>$32,091</td>\n",
       "      <td>Twilight Black</td>\n",
       "      <td>All-wheel Drive</td>\n",
       "      <td>Gasoline</td>\n",
       "      <td>2.4L I4 16V GDI DOHC</td>\n",
       "      <td>41645</td>\n",
       "    </tr>\n",
       "  </tbody>\n",
       "</table>\n",
       "<p>9379 rows × 9 columns</p>\n",
       "</div>"
      ],
      "text/plain": [
       "      model_year    brand                   model    Price  \\\n",
       "0           2019   Toyota               Sienna SE  $39,998   \n",
       "1           2018     Ford            F-150 Lariat  $49,985   \n",
       "2           2017      RAM            1500 Laramie  $41,860   \n",
       "3           2021    Honda         Accord Sport SE  $28,500   \n",
       "4           2020    Lexus                  RX 350  $49,000   \n",
       "...          ...      ...                     ...      ...   \n",
       "9374        2019   Subaru  Crosstrek 2.0i Premium  $27,374   \n",
       "9375        2019     Audi         Q8 3.0T Premium  $61,998   \n",
       "9376        2017    Buick         Enclave Leather  $26,944   \n",
       "9377        2019   Subaru        Forester Premium  $28,568   \n",
       "9378        2019  Hyundai   Santa Fe Ultimate 2.4  $32,091   \n",
       "\n",
       "                                 ext_col         Drivetrain fuel_type  \\\n",
       "0                                    Red  Front-wheel Drive  Gasoline   \n",
       "1                           Shadow Black   Four-wheel Drive  Gasoline   \n",
       "2     Granite Crystal Clearcoat Metallic   Four-wheel Drive  Gasoline   \n",
       "3                                   Gray  Front-wheel Drive  Gasoline   \n",
       "4                    Eminent White Pearl  Front-wheel Drive  Gasoline   \n",
       "...                                  ...                ...       ...   \n",
       "9374                   Quartz Blue Pearl    All-wheel Drive  Gasoline   \n",
       "9375                         Night Black    All-wheel Drive    Hybrid   \n",
       "9376             Ebony Twilight Metallic    All-wheel Drive  Gasoline   \n",
       "9377                Crystal Black Silica    All-wheel Drive  Gasoline   \n",
       "9378                      Twilight Black    All-wheel Drive  Gasoline   \n",
       "\n",
       "                                 engine  milage  \n",
       "0                  3.5L V6 24V PDI DOHC   29403  \n",
       "1       3.5L V6 24V PDI DOHC Twin Turbo   32929  \n",
       "2                  5.7L V8 16V MPFI OHV   23173  \n",
       "3            1.5L I4 16V GDI DOHC Turbo   10598  \n",
       "4                  3.5L V6 24V PDI DOHC   28137  \n",
       "...                                 ...     ...  \n",
       "9374               2.0L H4 16V GDI DOHC   15606  \n",
       "9375  3.0L V6 24V GDI DOHC Turbo Hybrid   46855  \n",
       "9376               3.6L V6 24V GDI DOHC   62649  \n",
       "9377               2.5L H4 16V GDI DOHC   30760  \n",
       "9378               2.4L I4 16V GDI DOHC   41645  \n",
       "\n",
       "[9379 rows x 9 columns]"
      ]
     },
     "execution_count": 59,
     "metadata": {},
     "output_type": "execute_result"
    }
   ],
   "source": [
    "dataset2"
   ]
  },
  {
   "cell_type": "markdown",
   "id": "c46640fc",
   "metadata": {},
   "source": [
    "## Предобработка данных"
   ]
  },
  {
   "cell_type": "code",
   "execution_count": 6,
   "id": "a2dc092b",
   "metadata": {
    "scrolled": true
   },
   "outputs": [],
   "source": [
    "dataset = dataset.rename(columns={'model_year': 'year'})"
   ]
  },
  {
   "cell_type": "code",
   "execution_count": 7,
   "id": "443367ae",
   "metadata": {},
   "outputs": [],
   "source": [
    "dataset['milage'] = dataset['milage'].apply(lambda x: x[:-4].replace(',', '.')).map(float) * 1.61"
   ]
  },
  {
   "cell_type": "code",
   "execution_count": 8,
   "id": "216c3eb9",
   "metadata": {},
   "outputs": [],
   "source": [
    "fuel = dataset.fuel_type.replace(['–', 'not supported'], 'Gasoline')\n",
    "fuel = fuel.fillna('Gasoline')\n",
    "dataset['fuel_type'] = fuel"
   ]
  },
  {
   "cell_type": "code",
   "execution_count": 9,
   "id": "0e4d884f",
   "metadata": {},
   "outputs": [],
   "source": [
    "l = []\n",
    "pattern = '\\d\\.\\dL'\n",
    "for engine in dataset.engine:\n",
    "    result = re.search(pattern, engine)\n",
    "    if result:\n",
    "        l.append(float(result.group()[:-1]))\n",
    "    else:\n",
    "        l.append(0)\n",
    "        \n",
    "engine = pd.Series(l)\n",
    "engine = engine.replace(0, engine.median())\n",
    "dataset['engine'] = engine"
   ]
  },
  {
   "cell_type": "code",
   "execution_count": 10,
   "id": "ea085c07",
   "metadata": {},
   "outputs": [],
   "source": [
    "selected_colors = dataset.ext_col.value_counts().head(12).index\n",
    "all_colors = dataset.ext_col.unique()\n",
    "\n",
    "colors_to_drop = [color for color in all_colors if color not in selected_colors]\n",
    "\n",
    "color = dataset['ext_col'].replace(colors_to_drop, 'Black')\n",
    "\n",
    "dataset['ext_col'] = color\n",
    "dataset = dataset.rename(columns={'ext_col': 'color'})"
   ]
  },
  {
   "cell_type": "code",
   "execution_count": 11,
   "id": "c92b6578",
   "metadata": {},
   "outputs": [],
   "source": [
    "dataset['accident'] = dataset.accident.map({'At least 1 accident or damage reported': 1, 'None reported': 0}).fillna(0)"
   ]
  },
  {
   "cell_type": "code",
   "execution_count": 1,
   "id": "8864c540",
   "metadata": {},
   "outputs": [
    {
     "ename": "NameError",
     "evalue": "name 'dataset' is not defined",
     "output_type": "error",
     "traceback": [
      "\u001b[1;31m---------------------------------------------------------------------------\u001b[0m",
      "\u001b[1;31mNameError\u001b[0m                                 Traceback (most recent call last)",
      "Cell \u001b[1;32mIn[1], line 1\u001b[0m\n\u001b[1;32m----> 1\u001b[0m dataset[\u001b[38;5;124m'\u001b[39m\u001b[38;5;124mprice\u001b[39m\u001b[38;5;124m'\u001b[39m] \u001b[38;5;241m=\u001b[39m dataset[\u001b[38;5;124m'\u001b[39m\u001b[38;5;124mprice\u001b[39m\u001b[38;5;124m'\u001b[39m]\u001b[38;5;241m.\u001b[39mmap(\u001b[38;5;28;01mlambda\u001b[39;00m x: \u001b[38;5;28mfloat\u001b[39m(x[\u001b[38;5;241m1\u001b[39m:]\u001b[38;5;241m.\u001b[39mreplace(\u001b[38;5;124m'\u001b[39m\u001b[38;5;124m,\u001b[39m\u001b[38;5;124m'\u001b[39m, \u001b[38;5;124m'\u001b[39m\u001b[38;5;124m'\u001b[39m))) \u001b[38;5;241m*\u001b[39m \u001b[38;5;241m93\u001b[39m\n",
      "\u001b[1;31mNameError\u001b[0m: name 'dataset' is not defined"
     ]
    }
   ],
   "source": [
    "dataset['price'] = dataset['price'].map(lambda x: float(x[1:].replace(',', ''))) * 93"
   ]
  },
  {
   "cell_type": "code",
   "execution_count": null,
   "id": "114871aa",
   "metadata": {},
   "outputs": [],
   "source": []
  },
  {
   "cell_type": "code",
   "execution_count": null,
   "id": "e9c92e8b",
   "metadata": {},
   "outputs": [],
   "source": []
  },
  {
   "cell_type": "code",
   "execution_count": null,
   "id": "4512eeb8",
   "metadata": {},
   "outputs": [],
   "source": []
  },
  {
   "cell_type": "code",
   "execution_count": null,
   "id": "df7bcfce",
   "metadata": {},
   "outputs": [],
   "source": []
  },
  {
   "cell_type": "code",
   "execution_count": null,
   "id": "9594e899",
   "metadata": {},
   "outputs": [],
   "source": []
  }
 ],
 "metadata": {
  "kernelspec": {
   "display_name": "Python 3 (ipykernel)",
   "language": "python",
   "name": "python3"
  },
  "language_info": {
   "codemirror_mode": {
    "name": "ipython",
    "version": 3
   },
   "file_extension": ".py",
   "mimetype": "text/x-python",
   "name": "python",
   "nbconvert_exporter": "python",
   "pygments_lexer": "ipython3",
   "version": "3.11.5"
  }
 },
 "nbformat": 4,
 "nbformat_minor": 5
}
