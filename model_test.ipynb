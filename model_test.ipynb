{
 "cells": [
  {
   "cell_type": "markdown",
   "id": "7331fcbb",
   "metadata": {},
   "source": [
    "## Импорт библиотек"
   ]
  },
  {
   "cell_type": "code",
   "execution_count": 1,
   "id": "1dcdba09",
   "metadata": {},
   "outputs": [],
   "source": [
    "import pandas as pd\n",
    "\n",
    "import re\n",
    "\n",
    "from sklearn.model_selection import train_test_split, GridSearchCV\n",
    "from sklearn.ensemble import RandomForestRegressor\n",
    "from sklearn.metrics import mean_squared_error\n",
    "\n",
    "import lightgbm as lgb\n",
    "\n",
    "import joblib"
   ]
  },
  {
   "cell_type": "markdown",
   "id": "b9b05be5",
   "metadata": {},
   "source": [
    "## Читаем датасет и оставляем фичи для дальнейшей работы"
   ]
  },
  {
   "cell_type": "code",
   "execution_count": 2,
   "id": "8bc0a1ee",
   "metadata": {},
   "outputs": [],
   "source": [
    "df1 = pd.read_csv('data/used_cars.csv')"
   ]
  },
  {
   "cell_type": "code",
   "execution_count": 3,
   "id": "b1ed4cf1",
   "metadata": {},
   "outputs": [],
   "source": [
    "features = ['brand', 'model', 'model_year', 'milage', 'fuel_type', 'engine', 'ext_col', 'price']"
   ]
  },
  {
   "cell_type": "code",
   "execution_count": 4,
   "id": "05edcb45",
   "metadata": {},
   "outputs": [],
   "source": [
    "df1 = df1[features]"
   ]
  },
  {
   "cell_type": "code",
   "execution_count": 5,
   "id": "ec0ae59c",
   "metadata": {},
   "outputs": [],
   "source": [
    "df2 = pd.read_csv('data/cars_data_VERSION2.csv')"
   ]
  },
  {
   "cell_type": "code",
   "execution_count": 6,
   "id": "fbc3dbad",
   "metadata": {},
   "outputs": [],
   "source": [
    "df2 = df2.drop(['Used/New', 'ConsumerRating',\n",
    "       'ConsumerReviews', 'SellerType', 'SellerName', 'SellerRating',\n",
    "       'SellerReviews', 'StreetName', 'State', 'Zipcode', 'DealType',\n",
    "       'ComfortRating', 'InteriorDesignRating', 'PerformanceRating',\n",
    "       'ValueForMoneyRating', 'ExteriorStylingRating', 'ReliabilityRating',\n",
    "       'MinMPG', 'MaxMPG', 'VIN', 'Stock#', 'InteriorColor', 'Transmission', 'Drivetrain'], axis=1)"
   ]
  },
  {
   "cell_type": "code",
   "execution_count": 7,
   "id": "6fe335ef",
   "metadata": {
    "scrolled": true
   },
   "outputs": [],
   "source": [
    "df2 = df2.rename(columns={'Year': 'model_year', 'Make': 'brand', 'Model': 'model', 'Mileage': 'milage',\n",
    "                                   'Engine': 'engine', 'FuelType': 'fuel_type', 'ExteriorColor': 'ext_col', 'Price': 'price'})"
   ]
  },
  {
   "cell_type": "code",
   "execution_count": 8,
   "id": "41a05dc3-2944-45f9-bbee-98cb168e765d",
   "metadata": {},
   "outputs": [],
   "source": [
    "df2['milage']  = df2['milage'] / 100"
   ]
  },
  {
   "cell_type": "code",
   "execution_count": 9,
   "id": "d6c9573f-d7b8-48b7-b65f-c011f773933a",
   "metadata": {},
   "outputs": [],
   "source": [
    "df1['milage'] = df1['milage'].apply(lambda x: x[:-4].replace(',', '.')).map(float) * 1.61"
   ]
  },
  {
   "cell_type": "code",
   "execution_count": 10,
   "id": "7419824c-4dec-42d9-b28b-6a16e2ad4be7",
   "metadata": {},
   "outputs": [],
   "source": [
    "dataset = pd.concat([df1, df2])"
   ]
  },
  {
   "cell_type": "code",
   "execution_count": 11,
   "id": "ff424696-3bef-4618-9e82-3f7637dc1816",
   "metadata": {},
   "outputs": [],
   "source": [
    "dataset.model_year = dataset.model_year.astype('int64')"
   ]
  },
  {
   "cell_type": "code",
   "execution_count": 12,
   "id": "ba7e88de-eefb-45b2-8c2a-6c95e2b80f22",
   "metadata": {},
   "outputs": [],
   "source": [
    "dataset = dataset[dataset['model_year'] > 2000]"
   ]
  },
  {
   "cell_type": "markdown",
   "id": "c46640fc",
   "metadata": {},
   "source": [
    "## Предобработка данных"
   ]
  },
  {
   "cell_type": "code",
   "execution_count": 13,
   "id": "a2dc092b",
   "metadata": {
    "scrolled": true
   },
   "outputs": [],
   "source": [
    "dataset = dataset.rename(columns={'model_year': 'year'})"
   ]
  },
  {
   "cell_type": "code",
   "execution_count": 14,
   "id": "216c3eb9",
   "metadata": {},
   "outputs": [],
   "source": [
    "fuel = dataset.fuel_type.replace(['–', 'not supported', 'Electric Fuel System',\n",
    "       'Gasoline/Mild Electric Hybrid', 'Flex Fuel Capability',\n",
    "       'not supported', 'Flexible Fuel', 'Plug-In Electric/Gas',\n",
    "       'Diesel Fuel', 'Gasoline Fuel'], 'Gasoline')\n",
    "\n",
    "fuel = fuel.replace(['Plug-In Hybrid'], 'Electric')\n",
    "fuel = fuel.fillna('Gasoline')\n",
    "dataset['fuel_type'] = fuel"
   ]
  },
  {
   "cell_type": "code",
   "execution_count": 15,
   "id": "0e4d884f",
   "metadata": {},
   "outputs": [],
   "source": [
    "l = []\n",
    "pattern = '\\d\\.\\dL'\n",
    "for engine in dataset.engine:\n",
    "    result = re.search(pattern, engine)\n",
    "    if result:\n",
    "        l.append(float(result.group()[:-1]))\n",
    "    else:\n",
    "        l.append(0)\n",
    "        \n",
    "engine = pd.Series(l)\n",
    "engine = engine.replace(0, engine.median())\n",
    "dataset['engine'] = engine"
   ]
  },
  {
   "cell_type": "code",
   "execution_count": 16,
   "id": "ea085c07",
   "metadata": {},
   "outputs": [],
   "source": [
    "selected_colors = df1.ext_col.value_counts().head(12).index\n",
    "all_colors = dataset.ext_col.unique()\n",
    "\n",
    "colors_to_drop = [color for color in all_colors if color not in selected_colors]\n",
    "\n",
    "color = dataset['ext_col'].replace(colors_to_drop, 'Black')\n",
    "\n",
    "dataset['ext_col'] = color\n",
    "dataset = dataset.rename(columns={'ext_col': 'color'})"
   ]
  },
  {
   "cell_type": "code",
   "execution_count": 17,
   "id": "8864c540",
   "metadata": {},
   "outputs": [],
   "source": [
    "dataset = dataset.loc[dataset['price'] != 'Not Priced']\n",
    "\n",
    "dataset['price'] = dataset['price'].map(lambda x: float(x[1:].replace(',', '')))"
   ]
  },
  {
   "cell_type": "markdown",
   "id": "e164e295-41c9-4f41-b8ef-9b0fd225d093",
   "metadata": {},
   "source": [
    "## Строим модель\n",
    "\n"
   ]
  },
  {
   "cell_type": "code",
   "execution_count": 18,
   "id": "7d7ac5a6-02f1-47ac-ae6c-00f0e5fed6a1",
   "metadata": {},
   "outputs": [],
   "source": [
    "df_for_model = pd.get_dummies(dataset, dtype=float)"
   ]
  },
  {
   "cell_type": "code",
   "execution_count": 19,
   "id": "b865c35f-4c88-4dad-843e-d64781de8fd6",
   "metadata": {},
   "outputs": [],
   "source": [
    "X = df_for_model.drop(['price'], axis=1)\n",
    "y = df_for_model['price']"
   ]
  },
  {
   "cell_type": "code",
   "execution_count": 20,
   "id": "ee715fa5-4737-42fb-b7b0-0dcd1687785f",
   "metadata": {},
   "outputs": [],
   "source": [
    "clf = RandomForestRegressor(criterion='squared_error', n_estimators=100, n_jobs=-1)"
   ]
  },
  {
   "cell_type": "code",
   "execution_count": 21,
   "id": "f74bafa7-59b1-434d-844e-cd83b0e9094c",
   "metadata": {},
   "outputs": [
    {
     "data": {
      "text/html": [
       "<style>#sk-container-id-1 {color: black;background-color: white;}#sk-container-id-1 pre{padding: 0;}#sk-container-id-1 div.sk-toggleable {background-color: white;}#sk-container-id-1 label.sk-toggleable__label {cursor: pointer;display: block;width: 100%;margin-bottom: 0;padding: 0.3em;box-sizing: border-box;text-align: center;}#sk-container-id-1 label.sk-toggleable__label-arrow:before {content: \"▸\";float: left;margin-right: 0.25em;color: #696969;}#sk-container-id-1 label.sk-toggleable__label-arrow:hover:before {color: black;}#sk-container-id-1 div.sk-estimator:hover label.sk-toggleable__label-arrow:before {color: black;}#sk-container-id-1 div.sk-toggleable__content {max-height: 0;max-width: 0;overflow: hidden;text-align: left;background-color: #f0f8ff;}#sk-container-id-1 div.sk-toggleable__content pre {margin: 0.2em;color: black;border-radius: 0.25em;background-color: #f0f8ff;}#sk-container-id-1 input.sk-toggleable__control:checked~div.sk-toggleable__content {max-height: 200px;max-width: 100%;overflow: auto;}#sk-container-id-1 input.sk-toggleable__control:checked~label.sk-toggleable__label-arrow:before {content: \"▾\";}#sk-container-id-1 div.sk-estimator input.sk-toggleable__control:checked~label.sk-toggleable__label {background-color: #d4ebff;}#sk-container-id-1 div.sk-label input.sk-toggleable__control:checked~label.sk-toggleable__label {background-color: #d4ebff;}#sk-container-id-1 input.sk-hidden--visually {border: 0;clip: rect(1px 1px 1px 1px);clip: rect(1px, 1px, 1px, 1px);height: 1px;margin: -1px;overflow: hidden;padding: 0;position: absolute;width: 1px;}#sk-container-id-1 div.sk-estimator {font-family: monospace;background-color: #f0f8ff;border: 1px dotted black;border-radius: 0.25em;box-sizing: border-box;margin-bottom: 0.5em;}#sk-container-id-1 div.sk-estimator:hover {background-color: #d4ebff;}#sk-container-id-1 div.sk-parallel-item::after {content: \"\";width: 100%;border-bottom: 1px solid gray;flex-grow: 1;}#sk-container-id-1 div.sk-label:hover label.sk-toggleable__label {background-color: #d4ebff;}#sk-container-id-1 div.sk-serial::before {content: \"\";position: absolute;border-left: 1px solid gray;box-sizing: border-box;top: 0;bottom: 0;left: 50%;z-index: 0;}#sk-container-id-1 div.sk-serial {display: flex;flex-direction: column;align-items: center;background-color: white;padding-right: 0.2em;padding-left: 0.2em;position: relative;}#sk-container-id-1 div.sk-item {position: relative;z-index: 1;}#sk-container-id-1 div.sk-parallel {display: flex;align-items: stretch;justify-content: center;background-color: white;position: relative;}#sk-container-id-1 div.sk-item::before, #sk-container-id-1 div.sk-parallel-item::before {content: \"\";position: absolute;border-left: 1px solid gray;box-sizing: border-box;top: 0;bottom: 0;left: 50%;z-index: -1;}#sk-container-id-1 div.sk-parallel-item {display: flex;flex-direction: column;z-index: 1;position: relative;background-color: white;}#sk-container-id-1 div.sk-parallel-item:first-child::after {align-self: flex-end;width: 50%;}#sk-container-id-1 div.sk-parallel-item:last-child::after {align-self: flex-start;width: 50%;}#sk-container-id-1 div.sk-parallel-item:only-child::after {width: 0;}#sk-container-id-1 div.sk-dashed-wrapped {border: 1px dashed gray;margin: 0 0.4em 0.5em 0.4em;box-sizing: border-box;padding-bottom: 0.4em;background-color: white;}#sk-container-id-1 div.sk-label label {font-family: monospace;font-weight: bold;display: inline-block;line-height: 1.2em;}#sk-container-id-1 div.sk-label-container {text-align: center;}#sk-container-id-1 div.sk-container {/* jupyter's `normalize.less` sets `[hidden] { display: none; }` but bootstrap.min.css set `[hidden] { display: none !important; }` so we also need the `!important` here to be able to override the default hidden behavior on the sphinx rendered scikit-learn.org. See: https://github.com/scikit-learn/scikit-learn/issues/21755 */display: inline-block !important;position: relative;}#sk-container-id-1 div.sk-text-repr-fallback {display: none;}</style><div id=\"sk-container-id-1\" class=\"sk-top-container\"><div class=\"sk-text-repr-fallback\"><pre>RandomForestRegressor(n_jobs=-1)</pre><b>In a Jupyter environment, please rerun this cell to show the HTML representation or trust the notebook. <br />On GitHub, the HTML representation is unable to render, please try loading this page with nbviewer.org.</b></div><div class=\"sk-container\" hidden><div class=\"sk-item\"><div class=\"sk-estimator sk-toggleable\"><input class=\"sk-toggleable__control sk-hidden--visually\" id=\"sk-estimator-id-1\" type=\"checkbox\" checked><label for=\"sk-estimator-id-1\" class=\"sk-toggleable__label sk-toggleable__label-arrow\">RandomForestRegressor</label><div class=\"sk-toggleable__content\"><pre>RandomForestRegressor(n_jobs=-1)</pre></div></div></div></div></div>"
      ],
      "text/plain": [
       "RandomForestRegressor(n_jobs=-1)"
      ]
     },
     "execution_count": 21,
     "metadata": {},
     "output_type": "execute_result"
    }
   ],
   "source": [
    "clf.fit(X, y)"
   ]
  },
  {
   "cell_type": "code",
   "execution_count": 22,
   "id": "d717bce8-2063-4530-a7db-f5b6208973d3",
   "metadata": {},
   "outputs": [
    {
     "data": {
      "text/plain": [
       "['model.joblib']"
      ]
     },
     "execution_count": 22,
     "metadata": {},
     "output_type": "execute_result"
    }
   ],
   "source": [
    "joblib.dump(clf, 'model.joblib', compress=9)"
   ]
  },
  {
   "cell_type": "markdown",
   "id": "9e42e632-5faa-4a5f-af56-462fd83c0cf0",
   "metadata": {},
   "source": [
    "## Создаем шаблон для передачи в нашу модель "
   ]
  },
  {
   "cell_type": "code",
   "execution_count": 23,
   "id": "bd715801-4c0f-4e40-bdba-f9aa2b9a4df0",
   "metadata": {},
   "outputs": [],
   "source": [
    "from_sample = X.iloc[:2]"
   ]
  },
  {
   "cell_type": "code",
   "execution_count": 24,
   "id": "fc2e431f-b60f-4c0e-85a7-eb197b718127",
   "metadata": {},
   "outputs": [
    {
     "data": {
      "text/plain": [
       "['from_sample.joblib']"
      ]
     },
     "execution_count": 24,
     "metadata": {},
     "output_type": "execute_result"
    }
   ],
   "source": [
    "joblib.dump(from_sample, 'from_sample.joblib', compress=9)"
   ]
  },
  {
   "cell_type": "code",
   "execution_count": null,
   "id": "b1783240-6e54-4f6a-8fea-d7aff9c7365e",
   "metadata": {},
   "outputs": [],
   "source": []
  },
  {
   "cell_type": "code",
   "execution_count": 81,
   "id": "72c183e4-095d-4390-a271-07de78b93cb9",
   "metadata": {},
   "outputs": [],
   "source": [
    "dataset.to_csv('data/dataset.csv')"
   ]
  },
  {
   "cell_type": "markdown",
   "id": "352d1e6a-a338-40ef-9e90-96d66e09b4fc",
   "metadata": {},
   "source": [
    "## Сохраняем данные для формы на сайте"
   ]
  },
  {
   "cell_type": "code",
   "execution_count": null,
   "id": "1531733d-ea27-4b24-9b3a-8f09a0e5aa56",
   "metadata": {},
   "outputs": [],
   "source": [
    "brand = dataset.brand\n",
    "\n",
    "brand = dataset.brand.value_counts().reset_index()['brand'].sort_values()\n",
    "\n",
    "#Модель\n",
    "# dataset.groupby('brand').count()\n",
    "\n",
    "year = [i for i in range(2000, 2025)]\n",
    "\n",
    "fuel_type = dataset.fuel_type.value_counts().reset_index().fuel_type\n",
    "\n",
    "engine = dataset.engine.value_counts().reset_index().engine.sort_values()\n",
    "\n",
    "color = dataset.color.value_counts().reset_index().color"
   ]
  },
  {
   "cell_type": "code",
   "execution_count": null,
   "id": "0e4d54b3-b5bd-4c67-b9cc-314b86745d7f",
   "metadata": {},
   "outputs": [],
   "source": []
  }
 ],
 "metadata": {
  "kernelspec": {
   "display_name": "Python 3 (ipykernel)",
   "language": "python",
   "name": "python3"
  },
  "language_info": {
   "codemirror_mode": {
    "name": "ipython",
    "version": 3
   },
   "file_extension": ".py",
   "mimetype": "text/x-python",
   "name": "python",
   "nbconvert_exporter": "python",
   "pygments_lexer": "ipython3",
   "version": "3.11.7"
  }
 },
 "nbformat": 4,
 "nbformat_minor": 5
}
